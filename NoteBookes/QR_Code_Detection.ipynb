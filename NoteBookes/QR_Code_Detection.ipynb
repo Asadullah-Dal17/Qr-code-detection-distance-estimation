{
 "cells": [
  {
   "cell_type": "markdown",
   "source": [
    "# QR code detection "
   ],
   "metadata": {}
  },
  {
   "cell_type": "code",
   "execution_count": 1,
   "source": [
    "# imports \r\n",
    "import cv2 as cv \r\n",
    "import numpy as np\r\n",
    "from pyzbar.pyzbar import decode\r\n",
    "import pyzbar\r\n",
    "import time\r\n",
    "import AiPhile\r\n"
   ],
   "outputs": [],
   "metadata": {}
  },
  {
   "cell_type": "code",
   "execution_count": 2,
   "source": [
    "# QR code detector function \r\n",
    "\r\n",
    "def detectQRcode(image):\r\n",
    "    # global Pos\r\n",
    "    # convert the color image to gray scale image\r\n",
    "    Gray = cv.cvtColor(image, cv.COLOR_BGR2GRAY)\r\n",
    "\r\n",
    "    # create QR code object\r\n",
    "    objectQRcode = pyzbar.pyzbar.decode(Gray)\r\n",
    "    for obDecoded in objectQRcode: \r\n",
    "        x, y, w, h =obDecoded.rect\r\n",
    "        # cv.rectangle(image, (x,y), (x+w, y+h), ORANGE, 4)\r\n",
    "        points = obDecoded.polygon\r\n",
    "        # print(points)\r\n",
    "        # print(type(points))\r\n",
    "        if len(points) > 4:\r\n",
    "            hull = cv.convexHull(\r\n",
    "                np.array([points for point in points], dtype=np.float32))\r\n",
    "            hull = list(map(tuple, np.squeeze(hull)))\r\n",
    "        else:\r\n",
    "            hull = points\r\n",
    "\r\n",
    "        n = len(hull)\r\n",
    "        # draw the lines on the QR code\r\n",
    "        for j in range(0, n):\r\n",
    "            # print(j, \"      \", (j + 1) % n, \"    \", n)\r\n",
    "\r\n",
    "            cv.line(image, hull[j], hull[(j + 1) % n], AiPhile.WHITE, 2, cv.LINE_AA)\r\n",
    "\r\n",
    "        # finding width of QR code in the image\r\n",
    "        x, x1 = hull[0][0], hull[1][0]\r\n",
    "        y, y1 = hull[0][1], hull[1][1]\r\n",
    "        # coordinates = (x, y, x1, y1)\r\n",
    "        # # print(hull)\r\n",
    "        # pt1, pt2, pt3, pt4 = hull\r\n",
    "        # Pos = hull[3]\r\n",
    "        return hull"
   ],
   "outputs": [],
   "metadata": {}
  },
  {
   "cell_type": "code",
   "execution_count": 3,
   "source": [
    "cap = cv.VideoCapture(1)\r\n",
    "\r\n",
    "frame_counter =0\r\n",
    "starting_time =time.time()\r\n",
    "# keep looping until the 'q' key is pressed\r\n",
    "while True:\r\n",
    "    frame_counter +=1\r\n",
    "    ret, frame = cap.read()\r\n",
    "    img = frame.copy()\r\n",
    "    # display the image and wait for a keypress\r\n",
    "    clone = frame.copy()\r\n",
    "    hull_points =detectQRcode(frame)\r\n",
    "    # print(old_points.size)\r\n",
    "    stop_code=False\r\n",
    "    if hull_points:\r\n",
    "\r\n",
    "        pt1, pt2, pt3, pt4 = hull_points\r\n",
    "        qr_detected= True\r\n",
    "        stop_code=True\r\n",
    "        old_points = np.array([pt1, pt2, pt3, pt4], dtype=np.float32)\r\n",
    "        frame =AiPhile.fillPolyTrans(frame, hull_points, AiPhile.MAGENTA, 0.6)\r\n",
    "        AiPhile.textBGoutline(frame, f'Detection: Pyzbar', (30,80), scaling=0.5,text_color=(AiPhile.MAGENTA ))\r\n",
    "\r\n",
    "        cv.circle(frame, pt1, 3, AiPhile.GREEN, 3)\r\n",
    "        cv.circle(frame, pt2, 3, (255, 0, 0), 3)\r\n",
    "        cv.circle(frame, pt3, 3,AiPhile.YELLOW, 3)\r\n",
    "        cv.circle(frame, pt4, 3, (0, 0, 255), 3)\r\n",
    "\r\n",
    "    # press 'r' to reset the window\r\n",
    "    key = cv.waitKey(1)\r\n",
    "\r\n",
    "    # if the 'c' key is pressed, break from the loop\r\n",
    "    if key == ord(\"q\"):\r\n",
    "        break\r\n",
    "    fps = frame_counter/(time.time()-starting_time)\r\n",
    "    AiPhile.textBGoutline(frame, f'FPS: {round(fps,1)}', (30,40), scaling=0.6)\r\n",
    "    cv.imshow(\"image\", frame)\r\n",
    "\r\n",
    "\r\n",
    "# close all open windows\r\n",
    "cv.destroyAllWindows() "
   ],
   "outputs": [],
   "metadata": {}
  }
 ],
 "metadata": {
  "orig_nbformat": 4,
  "language_info": {
   "name": "python",
   "version": "3.8.10",
   "mimetype": "text/x-python",
   "codemirror_mode": {
    "name": "ipython",
    "version": 3
   },
   "pygments_lexer": "ipython3",
   "nbconvert_exporter": "python",
   "file_extension": ".py"
  },
  "kernelspec": {
   "name": "python3",
   "display_name": "Python 3.8.10 64-bit ('base': conda)"
  },
  "interpreter": {
   "hash": "8334d57dc17b17e2573927d729924c46f569b3d2a540de4f1394aec8fea10c1c"
  }
 },
 "nbformat": 4,
 "nbformat_minor": 2
}